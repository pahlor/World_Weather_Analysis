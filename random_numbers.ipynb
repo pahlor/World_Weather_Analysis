{
 "cells": [
  {
   "cell_type": "code",
   "execution_count": 2,
   "id": "004dff0f",
   "metadata": {},
   "outputs": [],
   "source": [
    "# Import the random module.\n",
    "import random"
   ]
  },
  {
   "cell_type": "code",
   "execution_count": 3,
   "id": "566e3d58",
   "metadata": {},
   "outputs": [
    {
     "data": {
      "text/plain": [
       "11"
      ]
     },
     "execution_count": 3,
     "metadata": {},
     "output_type": "execute_result"
    }
   ],
   "source": [
    "random.randint(-90,90)"
   ]
  },
  {
   "cell_type": "code",
   "execution_count": 4,
   "id": "00f40776",
   "metadata": {},
   "outputs": [
    {
     "data": {
      "text/plain": [
       "0.9496982954830631"
      ]
     },
     "execution_count": 4,
     "metadata": {},
     "output_type": "execute_result"
    }
   ],
   "source": [
    "random.random()"
   ]
  },
  {
   "cell_type": "code",
   "execution_count": 5,
   "id": "f64c94a2",
   "metadata": {},
   "outputs": [
    {
     "data": {
      "text/plain": [
       "65.66141933672475"
      ]
     },
     "execution_count": 5,
     "metadata": {},
     "output_type": "execute_result"
    }
   ],
   "source": [
    "random_number = random.randint(-90,89) + random.random()\n",
    "random_number"
   ]
  },
  {
   "cell_type": "code",
   "execution_count": 6,
   "id": "7e26d1b3",
   "metadata": {},
   "outputs": [],
   "source": [
    "# Algorithm to generate latitudes between -90 and 89.\n",
    "x = 1\n",
    "latitudes = []\n",
    "while x < 11:\n",
    "    random_lat = random.randint(-90,89) + random.random()\n",
    "    latitudes.append(random_lat)\n",
    "    x += 1"
   ]
  },
  {
   "cell_type": "code",
   "execution_count": 7,
   "id": "dc743f86",
   "metadata": {},
   "outputs": [
    {
     "data": {
      "text/plain": [
       "73"
      ]
     },
     "execution_count": 7,
     "metadata": {},
     "output_type": "execute_result"
    }
   ],
   "source": [
    "random.randrange(-90,90, step=1)"
   ]
  },
  {
   "cell_type": "code",
   "execution_count": 8,
   "id": "537910f0",
   "metadata": {},
   "outputs": [
    {
     "data": {
      "text/plain": [
       "42.18121480588488"
      ]
     },
     "execution_count": 8,
     "metadata": {},
     "output_type": "execute_result"
    }
   ],
   "source": [
    "random.uniform(-90,90)"
   ]
  },
  {
   "cell_type": "code",
   "execution_count": 9,
   "id": "a5e96578",
   "metadata": {},
   "outputs": [],
   "source": [
    "# Import NumPy module\n",
    "import numpy as np"
   ]
  },
  {
   "cell_type": "code",
   "execution_count": 10,
   "id": "211081d1",
   "metadata": {},
   "outputs": [
    {
     "data": {
      "text/plain": [
       "58.97425649088498"
      ]
     },
     "execution_count": 10,
     "metadata": {},
     "output_type": "execute_result"
    }
   ],
   "source": [
    "np.random.uniform(-90.000, 90.000)"
   ]
  },
  {
   "cell_type": "code",
   "execution_count": 13,
   "id": "6f667730",
   "metadata": {},
   "outputs": [
    {
     "data": {
      "text/plain": [
       "array([-51.46767351, -23.30607579, -40.69526992,  27.13174253,\n",
       "       -66.68095409, -81.48798599, -74.29426344, -20.61147235,\n",
       "       -34.91214971,  17.08945511,  34.5435261 ,  -8.65833605,\n",
       "         4.31734903,  -1.34456519,  10.33696977,  62.07929413,\n",
       "       -14.92669354, -32.5060246 , -78.95795633, -68.46924747,\n",
       "        44.0216947 ,  33.3796143 , -46.98942298, -64.78552938,\n",
       "        36.42459053, -87.15815302,  87.19865033,  37.65320526,\n",
       "       -42.12031699,   7.32062623, -43.70373601,  14.739023  ,\n",
       "       -57.62092522,  38.1466674 ,  58.67513181, -43.04456341,\n",
       "        24.49606572, -43.80968345, -47.58486244,  58.48401561,\n",
       "        55.32921489,  14.78483146,  67.38835356, -64.67647549,\n",
       "        10.17813569,  22.79800996, -33.55369371, -59.03250351,\n",
       "        31.0244768 , -44.63966458])"
      ]
     },
     "execution_count": 13,
     "metadata": {},
     "output_type": "execute_result"
    }
   ],
   "source": [
    "np.random.uniform(-90.000, 90.000, size=50)"
   ]
  },
  {
   "cell_type": "code",
   "execution_count": 14,
   "id": "02fc8085",
   "metadata": {},
   "outputs": [],
   "source": [
    "# Import timeit.\n",
    "import timeit"
   ]
  },
  {
   "cell_type": "code",
   "execution_count": null,
   "id": "7cd1997e",
   "metadata": {},
   "outputs": [],
   "source": []
  }
 ],
 "metadata": {
  "kernelspec": {
   "display_name": "PythonData",
   "language": "python",
   "name": "pythondata"
  },
  "language_info": {
   "codemirror_mode": {
    "name": "ipython",
    "version": 3
   },
   "file_extension": ".py",
   "mimetype": "text/x-python",
   "name": "python",
   "nbconvert_exporter": "python",
   "pygments_lexer": "ipython3",
   "version": "3.9.7"
  }
 },
 "nbformat": 4,
 "nbformat_minor": 5
}
